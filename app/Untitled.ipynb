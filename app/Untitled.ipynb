{
 "cells": [
  {
   "cell_type": "code",
   "execution_count": 5,
   "metadata": {},
   "outputs": [],
   "source": [
    "posts= Post.objects.order_by('-pk').values()"
   ]
  },
  {
   "cell_type": "code",
   "execution_count": 18,
   "metadata": {},
   "outputs": [
    {
     "name": "stdout",
     "output_type": "stream",
     "text": [
      "4\n",
      "1\n",
      "이제 그만 공부시작\n",
      "2020-01-18 07:05:16.068004+00:00\n",
      "3\n",
      "1\n",
      "넉넉히 준비하자\n",
      "2020-01-18 07:05:08.299408+00:00\n",
      "2\n",
      "1\n",
      "django admin에서 데이터 추출 어떻게할가\n",
      "2020-01-18 07:05:01.600258+00:00\n",
      "1\n",
      "1\n",
      "hi hello~\n",
      "2020-01-18 07:04:23.515555+00:00\n"
     ]
    }
   ],
   "source": [
    "\n",
    "for post in posts:\n",
    "    print(post['id'])\n",
    "#     print(post)\n",
    "    print(post['author_id'])\n",
    "    print(post['content'])\n",
    "    print(post['created'])"
   ]
  },
  {
   "cell_type": "code",
   "execution_count": null,
   "metadata": {},
   "outputs": [],
   "source": []
  }
 ],
 "metadata": {
  "kernelspec": {
   "display_name": "Django Shell-Plus",
   "language": "python",
   "name": "django_extensions"
  },
  "language_info": {
   "codemirror_mode": {
    "name": "ipython",
    "version": 3
   },
   "file_extension": ".py",
   "mimetype": "text/x-python",
   "name": "python",
   "nbconvert_exporter": "python",
   "pygments_lexer": "ipython3",
   "version": "3.7.5"
  }
 },
 "nbformat": 4,
 "nbformat_minor": 4
}
